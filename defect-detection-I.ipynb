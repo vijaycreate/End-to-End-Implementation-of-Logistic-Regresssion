{
 "cells": [
  {
   "cell_type": "code",
   "execution_count": 1,
   "metadata": {
    "collapsed": true
   },
   "outputs": [],
   "source": [
    "import pandas as pd\n",
    "import numpy as np"
   ]
  },
  {
   "cell_type": "markdown",
   "metadata": {},
   "source": [
    "### Data Preprocessing"
   ]
  },
  {
   "cell_type": "code",
   "execution_count": 2,
   "metadata": {},
   "outputs": [
    {
     "name": "stdout",
     "output_type": "stream",
     "text": [
      "(438, 2)\n"
     ]
    },
    {
     "data": {
      "text/html": [
       "<div>\n",
       "<style>\n",
       "    .dataframe thead tr:only-child th {\n",
       "        text-align: right;\n",
       "    }\n",
       "\n",
       "    .dataframe thead th {\n",
       "        text-align: left;\n",
       "    }\n",
       "\n",
       "    .dataframe tbody tr th {\n",
       "        vertical-align: top;\n",
       "    }\n",
       "</style>\n",
       "<table border=\"1\" class=\"dataframe\">\n",
       "  <thead>\n",
       "    <tr style=\"text-align: right;\">\n",
       "      <th></th>\n",
       "      <th>Name</th>\n",
       "      <th>STRING</th>\n",
       "    </tr>\n",
       "  </thead>\n",
       "  <tbody>\n",
       "    <tr>\n",
       "      <th>0</th>\n",
       "      <td>Date</td>\n",
       "      <td>07-02-2019</td>\n",
       "    </tr>\n",
       "    <tr>\n",
       "      <th>1</th>\n",
       "      <td>Time</td>\n",
       "      <td>12:54:54</td>\n",
       "    </tr>\n",
       "    <tr>\n",
       "      <th>2</th>\n",
       "      <td>Temperature[degC]</td>\n",
       "      <td>47.652863</td>\n",
       "    </tr>\n",
       "    <tr>\n",
       "      <th>3</th>\n",
       "      <td>Voltge Range[V]</td>\n",
       "      <td>1000</td>\n",
       "    </tr>\n",
       "    <tr>\n",
       "      <th>4</th>\n",
       "      <td>Current Range[A]</td>\n",
       "      <td>30</td>\n",
       "    </tr>\n",
       "  </tbody>\n",
       "</table>\n",
       "</div>"
      ],
      "text/plain": [
       "                Name       STRING\n",
       "0               Date  07-02-2019 \n",
       "1               Time    12:54:54 \n",
       "2  Temperature[degC]   47.652863 \n",
       "3    Voltge Range[V]        1000 \n",
       "4   Current Range[A]          30 "
      ]
     },
     "execution_count": 2,
     "metadata": {},
     "output_type": "execute_result"
    }
   ],
   "source": [
    "data = pd.read_csv(r\"C:\\Users\\Triloki-Gupta\\Downloads\\pvdiagnostic\\Test-A\\20190207125454041.csv\")\n",
    "print(data.shape)\n",
    "data.head()"
   ]
  },
  {
   "cell_type": "code",
   "execution_count": 183,
   "metadata": {
    "collapsed": true
   },
   "outputs": [],
   "source": [
    "col = []\n",
    "for i in range(35):\n",
    "    col.append(data.loc[i,\"Name\"])"
   ]
  },
  {
   "cell_type": "code",
   "execution_count": 184,
   "metadata": {
    "scrolled": true
   },
   "outputs": [
    {
     "data": {
      "text/html": [
       "<div>\n",
       "<style scoped>\n",
       "    .dataframe tbody tr th:only-of-type {\n",
       "        vertical-align: middle;\n",
       "    }\n",
       "\n",
       "    .dataframe tbody tr th {\n",
       "        vertical-align: top;\n",
       "    }\n",
       "\n",
       "    .dataframe thead th {\n",
       "        text-align: right;\n",
       "    }\n",
       "</style>\n",
       "<table border=\"1\" class=\"dataframe\">\n",
       "  <thead>\n",
       "    <tr style=\"text-align: right;\">\n",
       "      <th></th>\n",
       "      <th>Date</th>\n",
       "      <th>Time</th>\n",
       "      <th>Temperature[degC]</th>\n",
       "      <th>Voltge Range[V]</th>\n",
       "      <th>Current Range[A]</th>\n",
       "      <th>Sampling Pitch[uS]</th>\n",
       "      <th>Sensor</th>\n",
       "      <th>Caribration Constant (Er cal)[mV/kW/m^2]</th>\n",
       "      <th>PV Device Area[m^2]</th>\n",
       "      <th>Current Temp. Coef.[A/degC]</th>\n",
       "      <th>...</th>\n",
       "      <th>T (stc)[degC]</th>\n",
       "      <th>Isc (stc)[A]</th>\n",
       "      <th>Voc (stc)[V]</th>\n",
       "      <th>Pm (stc)[W]</th>\n",
       "      <th>Ipm (stc)[A]</th>\n",
       "      <th>Vpm (stc)[V]</th>\n",
       "      <th>Eta (stc)[%]</th>\n",
       "      <th>FF(stc)</th>\n",
       "      <th>nan</th>\n",
       "      <th>Voltage[V]</th>\n",
       "    </tr>\n",
       "  </thead>\n",
       "  <tbody>\n",
       "  </tbody>\n",
       "</table>\n",
       "<p>0 rows × 35 columns</p>\n",
       "</div>"
      ],
      "text/plain": [
       "Empty DataFrame\n",
       "Columns: [Date, Time, Temperature[degC], Voltge Range[V], Current Range[A], Sampling Pitch[uS], Sensor, Caribration Constant (Er cal)[mV/kW/m^2], PV Device Area[m^2], Current Temp. Coef.[A/degC], Voltage Temp. Coef.[V/degC], Series Resistance(Rs)[ohm], Curve Correction Factor (Kappa)[ohm/degC], Series Modules, Parallel Modules, Solar Irradiance (Er)[W/m^2], PV Device Temp.[degC], Isc[A], Voc[V], Pm[W], Ipm[A], Vpm[V], Eta[%], FF, Er (stc)[W/m^2], T (stc)[degC], Isc (stc)[A], Voc (stc)[V], Pm (stc)[W], Ipm (stc)[A], Vpm (stc)[V], Eta (stc)[%], FF(stc), nan, Voltage[V]]\n",
       "Index: []\n",
       "\n",
       "[0 rows x 35 columns]"
      ]
     },
     "execution_count": 184,
     "metadata": {},
     "output_type": "execute_result"
    }
   ],
   "source": [
    "new_data = pd.DataFrame(columns=col, dtype=\"int\")\n",
    "new_data"
   ]
  },
  {
   "cell_type": "code",
   "execution_count": 179,
   "metadata": {
    "collapsed": true
   },
   "outputs": [],
   "source": [
    "from os import listdir\n",
    "from os.path import isfile, join\n",
    "mypath = r'C:\\Users\\Triloki-Gupta\\Downloads\\pvdiagnostic\\Test-A'\n",
    "onlyfiles = [f for f in listdir(mypath) if isfile(join(mypath, f))]"
   ]
  },
  {
   "cell_type": "code",
   "execution_count": 217,
   "metadata": {
    "scrolled": true
   },
   "outputs": [
    {
     "name": "stdout",
     "output_type": "stream",
     "text": [
      "0\n",
      "1\n",
      "2\n",
      "3\n",
      "4\n",
      "5\n",
      "6\n",
      "7\n",
      "8\n",
      "9\n",
      "10\n",
      "11\n",
      "12\n",
      "13\n",
      "14\n",
      "15\n",
      "16\n",
      "17\n",
      "18\n",
      "19\n",
      "20\n",
      "21\n",
      "22\n",
      "23\n",
      "24\n",
      "25\n",
      "26\n",
      "27\n",
      "28\n",
      "29\n",
      "30\n",
      "31\n",
      "32\n",
      "33\n",
      "34\n",
      "35\n",
      "36\n",
      "37\n",
      "38\n",
      "39\n",
      "40\n",
      "41\n",
      "42\n",
      "43\n",
      "44\n",
      "45\n",
      "46\n",
      "47\n",
      "48\n",
      "49\n",
      "50\n",
      "51\n",
      "52\n",
      "53\n",
      "54\n",
      "55\n",
      "56\n",
      "57\n",
      "58\n",
      "59\n",
      "60\n",
      "61\n",
      "62\n",
      "63\n",
      "64\n",
      "65\n",
      "66\n",
      "67\n",
      "68\n",
      "69\n",
      "70\n",
      "71\n",
      "72\n",
      "73\n",
      "74\n",
      "75\n",
      "76\n",
      "77\n",
      "78\n",
      "79\n",
      "80\n",
      "81\n",
      "82\n",
      "83\n",
      "84\n",
      "85\n",
      "86\n",
      "87\n",
      "88\n",
      "89\n",
      "90\n",
      "91\n",
      "92\n",
      "93\n",
      "94\n",
      "95\n",
      "96\n",
      "97\n",
      "98\n",
      "99\n",
      "100\n",
      "101\n",
      "102\n",
      "103\n",
      "104\n",
      "105\n",
      "106\n",
      "107\n",
      "108\n",
      "109\n",
      "110\n",
      "111\n",
      "112\n",
      "113\n",
      "114\n",
      "115\n",
      "116\n",
      "117\n",
      "118\n",
      "119\n",
      "120\n",
      "121\n",
      "122\n",
      "123\n",
      "124\n",
      "125\n",
      "126\n",
      "127\n",
      "128\n",
      "129\n",
      "130\n",
      "131\n",
      "132\n",
      "133\n",
      "134\n",
      "135\n",
      "136\n",
      "137\n",
      "138\n",
      "139\n",
      "140\n",
      "141\n",
      "142\n",
      "143\n",
      "144\n",
      "145\n",
      "146\n",
      "147\n",
      "148\n",
      "149\n",
      "150\n",
      "151\n",
      "152\n",
      "153\n",
      "154\n",
      "155\n",
      "156\n",
      "157\n",
      "158\n",
      "159\n",
      "160\n",
      "161\n",
      "162\n",
      "163\n",
      "164\n",
      "165\n",
      "166\n",
      "167\n",
      "168\n",
      "169\n",
      "170\n",
      "171\n",
      "172\n",
      "173\n",
      "174\n",
      "175\n",
      "176\n",
      "177\n",
      "178\n",
      "179\n",
      "180\n",
      "181\n",
      "182\n",
      "183\n",
      "184\n",
      "185\n",
      "186\n",
      "187\n",
      "188\n",
      "189\n",
      "190\n",
      "191\n",
      "192\n",
      "193\n",
      "194\n",
      "195\n"
     ]
    }
   ],
   "source": [
    "for j in range (len(onlyfiles)):\n",
    "    print(j)\n",
    "    data = pd.read_csv(mypath+\"\\\\\"+onlyfiles[j])\n",
    "#     for j in range(len(mylist)):\n",
    "    for i in range(35):\n",
    "        try:\n",
    "#                 print(data.loc[i,\"STRING\"])\n",
    "            new_data.loc[j,col[i]]=data.loc[i,\"STRING\"]\n",
    "            new_data.loc[j,\"Module No.\"]=str(onlyfiles[j].split('.')[0])\n",
    "\n",
    "        except:\n",
    "#                 print(data.loc[i,\"MODULE\"])\n",
    "            new_data.loc[j,col[i]]=data.loc[i,\"MODULE\"]\n",
    "            new_data.loc[j,\"Module No.\"]=str(onlyfiles[j].split('.')[0])"
   ]
  },
  {
   "cell_type": "code",
   "execution_count": 218,
   "metadata": {},
   "outputs": [
    {
     "data": {
      "text/html": [
       "<div>\n",
       "<style scoped>\n",
       "    .dataframe tbody tr th:only-of-type {\n",
       "        vertical-align: middle;\n",
       "    }\n",
       "\n",
       "    .dataframe tbody tr th {\n",
       "        vertical-align: top;\n",
       "    }\n",
       "\n",
       "    .dataframe thead th {\n",
       "        text-align: right;\n",
       "    }\n",
       "</style>\n",
       "<table border=\"1\" class=\"dataframe\">\n",
       "  <thead>\n",
       "    <tr style=\"text-align: right;\">\n",
       "      <th></th>\n",
       "      <th>Date</th>\n",
       "      <th>Time</th>\n",
       "      <th>Temperature[degC]</th>\n",
       "      <th>Voltge Range[V]</th>\n",
       "      <th>Current Range[A]</th>\n",
       "      <th>Sampling Pitch[uS]</th>\n",
       "      <th>Sensor</th>\n",
       "      <th>Caribration Constant (Er cal)[mV/kW/m^2]</th>\n",
       "      <th>PV Device Area[m^2]</th>\n",
       "      <th>Current Temp. Coef.[A/degC]</th>\n",
       "      <th>...</th>\n",
       "      <th>Isc (stc)[A]</th>\n",
       "      <th>Voc (stc)[V]</th>\n",
       "      <th>Pm (stc)[W]</th>\n",
       "      <th>Ipm (stc)[A]</th>\n",
       "      <th>Vpm (stc)[V]</th>\n",
       "      <th>Eta (stc)[%]</th>\n",
       "      <th>FF(stc)</th>\n",
       "      <th>nan</th>\n",
       "      <th>Voltage[V]</th>\n",
       "      <th>Module No.</th>\n",
       "    </tr>\n",
       "  </thead>\n",
       "  <tbody>\n",
       "    <tr>\n",
       "      <th>0</th>\n",
       "      <td>07-02-2019</td>\n",
       "      <td>12:54:54</td>\n",
       "      <td>47.652863</td>\n",
       "      <td>1000</td>\n",
       "      <td>30</td>\n",
       "      <td>10</td>\n",
       "      <td>Pyranometer</td>\n",
       "      <td>52.49</td>\n",
       "      <td>1</td>\n",
       "      <td>0</td>\n",
       "      <td>...</td>\n",
       "      <td>8.194866</td>\n",
       "      <td>901.289707</td>\n",
       "      <td>5245.071996</td>\n",
       "      <td>7.371913</td>\n",
       "      <td>711.493992</td>\n",
       "      <td>11.583047</td>\n",
       "      <td>0.6927</td>\n",
       "      <td>NaN</td>\n",
       "      <td>Current[A]</td>\n",
       "      <td>20190207125454041</td>\n",
       "    </tr>\n",
       "    <tr>\n",
       "      <th>1</th>\n",
       "      <td>16-02-2019</td>\n",
       "      <td>10:55:44</td>\n",
       "      <td>47.964508</td>\n",
       "      <td>100</td>\n",
       "      <td>10</td>\n",
       "      <td>10</td>\n",
       "      <td>Pyranometer</td>\n",
       "      <td>52.49</td>\n",
       "      <td>1</td>\n",
       "      <td>0</td>\n",
       "      <td>...</td>\n",
       "      <td>7.786469</td>\n",
       "      <td>36.603990</td>\n",
       "      <td>389.943103</td>\n",
       "      <td>10.372680</td>\n",
       "      <td>37.593285</td>\n",
       "      <td>17.987082</td>\n",
       "      <td>0.652611</td>\n",
       "      <td>NaN</td>\n",
       "      <td>Current[A]</td>\n",
       "      <td>20190216105544030</td>\n",
       "    </tr>\n",
       "    <tr>\n",
       "      <th>2</th>\n",
       "      <td>16-02-2019</td>\n",
       "      <td>12:10:24</td>\n",
       "      <td>51.697929</td>\n",
       "      <td>100</td>\n",
       "      <td>10</td>\n",
       "      <td>10</td>\n",
       "      <td>Pyranometer</td>\n",
       "      <td>52.49</td>\n",
       "      <td>1</td>\n",
       "      <td>0</td>\n",
       "      <td>...</td>\n",
       "      <td>7.765487</td>\n",
       "      <td>36.628285</td>\n",
       "      <td>214.668875</td>\n",
       "      <td>5.703425</td>\n",
       "      <td>37.638593</td>\n",
       "      <td>17.02744</td>\n",
       "      <td>0.647208</td>\n",
       "      <td>NaN</td>\n",
       "      <td>Current[A]</td>\n",
       "      <td>20190216121024130</td>\n",
       "    </tr>\n",
       "    <tr>\n",
       "      <th>3</th>\n",
       "      <td>16-02-2019</td>\n",
       "      <td>12:14:36</td>\n",
       "      <td>50.773357</td>\n",
       "      <td>100</td>\n",
       "      <td>10</td>\n",
       "      <td>10</td>\n",
       "      <td>Pyranometer</td>\n",
       "      <td>52.49</td>\n",
       "      <td>1</td>\n",
       "      <td>0</td>\n",
       "      <td>...</td>\n",
       "      <td>7.651004</td>\n",
       "      <td>36.129507</td>\n",
       "      <td>214.990621</td>\n",
       "      <td>5.723115</td>\n",
       "      <td>37.565314</td>\n",
       "      <td>16.785577</td>\n",
       "      <td>0.653564</td>\n",
       "      <td>NaN</td>\n",
       "      <td>Current[A]</td>\n",
       "      <td>20190216121436138</td>\n",
       "    </tr>\n",
       "    <tr>\n",
       "      <th>4</th>\n",
       "      <td>16-02-2019</td>\n",
       "      <td>12:15:18</td>\n",
       "      <td>50.338634</td>\n",
       "      <td>100</td>\n",
       "      <td>10</td>\n",
       "      <td>10</td>\n",
       "      <td>Pyranometer</td>\n",
       "      <td>52.49</td>\n",
       "      <td>1</td>\n",
       "      <td>0</td>\n",
       "      <td>...</td>\n",
       "      <td>7.632927</td>\n",
       "      <td>36.317609</td>\n",
       "      <td>148.847265</td>\n",
       "      <td>3.768207</td>\n",
       "      <td>39.500818</td>\n",
       "      <td>11.905059</td>\n",
       "      <td>0.462546</td>\n",
       "      <td>NaN</td>\n",
       "      <td>Current[A]</td>\n",
       "      <td>20190216121518140</td>\n",
       "    </tr>\n",
       "  </tbody>\n",
       "</table>\n",
       "<p>5 rows × 36 columns</p>\n",
       "</div>"
      ],
      "text/plain": [
       "          Date       Time Temperature[degC] Voltge Range[V] Current Range[A]  \\\n",
       "0  07-02-2019   12:54:54         47.652863            1000               30    \n",
       "1  16-02-2019   10:55:44         47.964508             100               10    \n",
       "2  16-02-2019   12:10:24         51.697929             100               10    \n",
       "3  16-02-2019   12:14:36         50.773357             100               10    \n",
       "4  16-02-2019   12:15:18         50.338634             100               10    \n",
       "\n",
       "  Sampling Pitch[uS]       Sensor Caribration Constant (Er cal)[mV/kW/m^2]  \\\n",
       "0                10   Pyranometer                                   52.49    \n",
       "1                10   Pyranometer                                   52.49    \n",
       "2                10   Pyranometer                                   52.49    \n",
       "3                10   Pyranometer                                   52.49    \n",
       "4                10   Pyranometer                                   52.49    \n",
       "\n",
       "  PV Device Area[m^2] Current Temp. Coef.[A/degC]  ... Isc (stc)[A]  \\\n",
       "0                  1                           0   ...     8.194866   \n",
       "1                  1                           0   ...     7.786469   \n",
       "2                  1                           0   ...     7.765487   \n",
       "3                  1                           0   ...     7.651004   \n",
       "4                  1                           0   ...     7.632927   \n",
       "\n",
       "  Voc (stc)[V]  Pm (stc)[W] Ipm (stc)[A] Vpm (stc)[V] Eta (stc)[%]  \\\n",
       "0   901.289707  5245.071996     7.371913   711.493992   11.583047    \n",
       "1    36.603990   389.943103    10.372680    37.593285   17.987082    \n",
       "2    36.628285   214.668875     5.703425    37.638593    17.02744    \n",
       "3    36.129507   214.990621     5.723115    37.565314   16.785577    \n",
       "4    36.317609   148.847265     3.768207    39.500818   11.905059    \n",
       "\n",
       "      FF(stc) NaN  Voltage[V]         Module No.  \n",
       "0     0.6927  NaN  Current[A]  20190207125454041  \n",
       "1   0.652611  NaN  Current[A]  20190216105544030  \n",
       "2   0.647208  NaN  Current[A]  20190216121024130  \n",
       "3   0.653564  NaN  Current[A]  20190216121436138  \n",
       "4   0.462546  NaN  Current[A]  20190216121518140  \n",
       "\n",
       "[5 rows x 36 columns]"
      ]
     },
     "execution_count": 218,
     "metadata": {},
     "output_type": "execute_result"
    }
   ],
   "source": [
    "new_data.head()"
   ]
  },
  {
   "cell_type": "code",
   "execution_count": 227,
   "metadata": {},
   "outputs": [
    {
     "name": "stdout",
     "output_type": "stream",
     "text": [
      "(196, 2)\n"
     ]
    },
    {
     "data": {
      "text/html": [
       "<div>\n",
       "<style scoped>\n",
       "    .dataframe tbody tr th:only-of-type {\n",
       "        vertical-align: middle;\n",
       "    }\n",
       "\n",
       "    .dataframe tbody tr th {\n",
       "        vertical-align: top;\n",
       "    }\n",
       "\n",
       "    .dataframe thead th {\n",
       "        text-align: right;\n",
       "    }\n",
       "</style>\n",
       "<table border=\"1\" class=\"dataframe\">\n",
       "  <thead>\n",
       "    <tr style=\"text-align: right;\">\n",
       "      <th></th>\n",
       "      <th>Module No.</th>\n",
       "      <th>Test-B result</th>\n",
       "    </tr>\n",
       "  </thead>\n",
       "  <tbody>\n",
       "    <tr>\n",
       "      <th>0</th>\n",
       "      <td>20190418111356171</td>\n",
       "      <td>normal</td>\n",
       "    </tr>\n",
       "    <tr>\n",
       "      <th>1</th>\n",
       "      <td>20190418124126297</td>\n",
       "      <td>normal</td>\n",
       "    </tr>\n",
       "    <tr>\n",
       "      <th>2</th>\n",
       "      <td>20190418124208299</td>\n",
       "      <td>normal</td>\n",
       "    </tr>\n",
       "    <tr>\n",
       "      <th>3</th>\n",
       "      <td>20190418124228300</td>\n",
       "      <td>normal</td>\n",
       "    </tr>\n",
       "    <tr>\n",
       "      <th>4</th>\n",
       "      <td>20190418142022001</td>\n",
       "      <td>normal</td>\n",
       "    </tr>\n",
       "  </tbody>\n",
       "</table>\n",
       "</div>"
      ],
      "text/plain": [
       "          Module No. Test-B result\n",
       "0  20190418111356171        normal\n",
       "1  20190418124126297        normal\n",
       "2  20190418124208299        normal\n",
       "3  20190418124228300        normal\n",
       "4  20190418142022001        normal"
      ]
     },
     "execution_count": 227,
     "metadata": {},
     "output_type": "execute_result"
    }
   ],
   "source": [
    "data_B = pd.read_excel(r\"C:\\Users\\Triloki-Gupta\\Downloads\\pvdiagnostic\\Test-B\\Test-B results (dataset-B).xlsx\", dtype={'Module No.':'int64'})\n",
    "print(data_B.shape)\n",
    "data_B.head()"
   ]
  },
  {
   "cell_type": "code",
   "execution_count": 234,
   "metadata": {
    "collapsed": true
   },
   "outputs": [],
   "source": [
    "new_data[\"Module No.\"] = new_data[\"Module No.\"].astype(\"int64\")"
   ]
  },
  {
   "cell_type": "code",
   "execution_count": 237,
   "metadata": {
    "collapsed": true
   },
   "outputs": [],
   "source": [
    "#merging file on the base of module no. and saving\n",
    "rawData=pd.merge(new_data,data_B, on='Module No.')\n",
    "# final_data.to_excel(r\"C:\\Users\\Triloki-Gupta\\Downloads\\pvdiagnostic\\dataWithClass.xlsx\", index=False)\n",
    "rawData.to_csv(r\"C:\\Users\\Triloki-Gupta\\Downloads\\pvdiagnostic\\dataWithClass.csv\", index=False)"
   ]
  },
  {
   "cell_type": "code",
   "execution_count": 3,
   "metadata": {
    "collapsed": true
   },
   "outputs": [],
   "source": [
    "#loading withclass data\n",
    "dataWithClass = pd.read_csv(r\"C:\\Users\\Triloki-Gupta\\Downloads\\pvdiagnostic\\dataWithClass.csv\",dtype={'Module No.':'object'})"
   ]
  },
  {
   "cell_type": "markdown",
   "metadata": {},
   "source": [
    "## EDA"
   ]
  },
  {
   "cell_type": "code",
   "execution_count": 4,
   "metadata": {},
   "outputs": [
    {
     "data": {
      "text/plain": [
       "array(['defect_S_C', 'defect_C', 'defect_S', 'defect_P', 'normal',\n",
       "       'defect_S_P'], dtype=object)"
      ]
     },
     "execution_count": 4,
     "metadata": {},
     "output_type": "execute_result"
    }
   ],
   "source": [
    "#unique class/target\n",
    "dataWithClass[\"Test-B result\"].unique()"
   ]
  },
  {
   "cell_type": "code",
   "execution_count": 5,
   "metadata": {},
   "outputs": [
    {
     "data": {
      "text/html": [
       "<div>\n",
       "<style>\n",
       "    .dataframe thead tr:only-child th {\n",
       "        text-align: right;\n",
       "    }\n",
       "\n",
       "    .dataframe thead th {\n",
       "        text-align: left;\n",
       "    }\n",
       "\n",
       "    .dataframe tbody tr th {\n",
       "        vertical-align: top;\n",
       "    }\n",
       "</style>\n",
       "<table border=\"1\" class=\"dataframe\">\n",
       "  <thead>\n",
       "    <tr style=\"text-align: right;\">\n",
       "      <th></th>\n",
       "      <th>Date</th>\n",
       "      <th>Time</th>\n",
       "      <th>Temperature[degC]</th>\n",
       "      <th>Voltge Range[V]</th>\n",
       "      <th>Current Range[A]</th>\n",
       "      <th>Sampling Pitch[uS]</th>\n",
       "      <th>Sensor</th>\n",
       "      <th>Caribration Constant (Er cal)[mV/kW/m^2]</th>\n",
       "      <th>PV Device Area[m^2]</th>\n",
       "      <th>Current Temp. Coef.[A/degC]</th>\n",
       "      <th>...</th>\n",
       "      <th>Voc (stc)[V]</th>\n",
       "      <th>Pm (stc)[W]</th>\n",
       "      <th>Ipm (stc)[A]</th>\n",
       "      <th>Vpm (stc)[V]</th>\n",
       "      <th>Eta (stc)[%]</th>\n",
       "      <th>FF(stc)</th>\n",
       "      <th>Unnamed: 33</th>\n",
       "      <th>Voltage[V]</th>\n",
       "      <th>Module No.</th>\n",
       "      <th>Test-B result</th>\n",
       "    </tr>\n",
       "  </thead>\n",
       "  <tbody>\n",
       "    <tr>\n",
       "      <th>0</th>\n",
       "      <td>07-02-2019</td>\n",
       "      <td>12:54:54</td>\n",
       "      <td>47.652863</td>\n",
       "      <td>1000</td>\n",
       "      <td>30</td>\n",
       "      <td>10</td>\n",
       "      <td>Pyranometer</td>\n",
       "      <td>52.49</td>\n",
       "      <td>1</td>\n",
       "      <td>0</td>\n",
       "      <td>...</td>\n",
       "      <td>901.289707</td>\n",
       "      <td>5245.071996</td>\n",
       "      <td>7.371913</td>\n",
       "      <td>711.493992</td>\n",
       "      <td>11.583047</td>\n",
       "      <td>0.692700</td>\n",
       "      <td>NaN</td>\n",
       "      <td>Current[A]</td>\n",
       "      <td>20190207125454041</td>\n",
       "      <td>defect_S_C</td>\n",
       "    </tr>\n",
       "    <tr>\n",
       "      <th>1</th>\n",
       "      <td>16-02-2019</td>\n",
       "      <td>10:55:44</td>\n",
       "      <td>47.964508</td>\n",
       "      <td>100</td>\n",
       "      <td>10</td>\n",
       "      <td>10</td>\n",
       "      <td>Pyranometer</td>\n",
       "      <td>52.49</td>\n",
       "      <td>1</td>\n",
       "      <td>0</td>\n",
       "      <td>...</td>\n",
       "      <td>36.603990</td>\n",
       "      <td>389.943103</td>\n",
       "      <td>10.372680</td>\n",
       "      <td>37.593285</td>\n",
       "      <td>17.987082</td>\n",
       "      <td>0.652611</td>\n",
       "      <td>NaN</td>\n",
       "      <td>Current[A]</td>\n",
       "      <td>20190216105544030</td>\n",
       "      <td>defect_C</td>\n",
       "    </tr>\n",
       "    <tr>\n",
       "      <th>2</th>\n",
       "      <td>16-02-2019</td>\n",
       "      <td>12:10:24</td>\n",
       "      <td>51.697929</td>\n",
       "      <td>100</td>\n",
       "      <td>10</td>\n",
       "      <td>10</td>\n",
       "      <td>Pyranometer</td>\n",
       "      <td>52.49</td>\n",
       "      <td>1</td>\n",
       "      <td>0</td>\n",
       "      <td>...</td>\n",
       "      <td>36.628285</td>\n",
       "      <td>214.668875</td>\n",
       "      <td>5.703425</td>\n",
       "      <td>37.638593</td>\n",
       "      <td>17.027440</td>\n",
       "      <td>0.647208</td>\n",
       "      <td>NaN</td>\n",
       "      <td>Current[A]</td>\n",
       "      <td>20190216121024130</td>\n",
       "      <td>defect_C</td>\n",
       "    </tr>\n",
       "  </tbody>\n",
       "</table>\n",
       "<p>3 rows × 37 columns</p>\n",
       "</div>"
      ],
      "text/plain": [
       "          Date       Time  Temperature[degC]  Voltge Range[V]  \\\n",
       "0  07-02-2019   12:54:54           47.652863             1000   \n",
       "1  16-02-2019   10:55:44           47.964508              100   \n",
       "2  16-02-2019   12:10:24           51.697929              100   \n",
       "\n",
       "   Current Range[A]  Sampling Pitch[uS]       Sensor  \\\n",
       "0                30                  10  Pyranometer   \n",
       "1                10                  10  Pyranometer   \n",
       "2                10                  10  Pyranometer   \n",
       "\n",
       "   Caribration Constant (Er cal)[mV/kW/m^2]  PV Device Area[m^2]  \\\n",
       "0                                     52.49                    1   \n",
       "1                                     52.49                    1   \n",
       "2                                     52.49                    1   \n",
       "\n",
       "   Current Temp. Coef.[A/degC]      ...        Voc (stc)[V]  Pm (stc)[W]  \\\n",
       "0                            0      ...          901.289707  5245.071996   \n",
       "1                            0      ...           36.603990   389.943103   \n",
       "2                            0      ...           36.628285   214.668875   \n",
       "\n",
       "   Ipm (stc)[A]  Vpm (stc)[V]  Eta (stc)[%]   FF(stc)  Unnamed: 33  \\\n",
       "0      7.371913    711.493992     11.583047  0.692700          NaN   \n",
       "1     10.372680     37.593285     17.987082  0.652611          NaN   \n",
       "2      5.703425     37.638593     17.027440  0.647208          NaN   \n",
       "\n",
       "   Voltage[V]         Module No.  Test-B result  \n",
       "0  Current[A]  20190207125454041     defect_S_C  \n",
       "1  Current[A]  20190216105544030       defect_C  \n",
       "2  Current[A]  20190216121024130       defect_C  \n",
       "\n",
       "[3 rows x 37 columns]"
      ]
     },
     "execution_count": 5,
     "metadata": {},
     "output_type": "execute_result"
    }
   ],
   "source": [
    "#top 3 data point\n",
    "dataWithClass.head(3)\n",
    "# dataWithClass.select_dtypes(include = ['object']).head(3)"
   ]
  },
  {
   "cell_type": "code",
   "execution_count": 6,
   "metadata": {},
   "outputs": [
    {
     "name": "stdout",
     "output_type": "stream",
     "text": [
      "(196, 33)\n"
     ]
    },
    {
     "data": {
      "text/html": [
       "<div>\n",
       "<style>\n",
       "    .dataframe thead tr:only-child th {\n",
       "        text-align: right;\n",
       "    }\n",
       "\n",
       "    .dataframe thead th {\n",
       "        text-align: left;\n",
       "    }\n",
       "\n",
       "    .dataframe tbody tr th {\n",
       "        vertical-align: top;\n",
       "    }\n",
       "</style>\n",
       "<table border=\"1\" class=\"dataframe\">\n",
       "  <thead>\n",
       "    <tr style=\"text-align: right;\">\n",
       "      <th></th>\n",
       "      <th>Temperature[degC]</th>\n",
       "      <th>Voltge Range[V]</th>\n",
       "      <th>Current Range[A]</th>\n",
       "      <th>Sampling Pitch[uS]</th>\n",
       "      <th>Sensor</th>\n",
       "      <th>Caribration Constant (Er cal)[mV/kW/m^2]</th>\n",
       "      <th>PV Device Area[m^2]</th>\n",
       "      <th>Current Temp. Coef.[A/degC]</th>\n",
       "      <th>Voltage Temp. Coef.[V/degC]</th>\n",
       "      <th>Series Resistance(Rs)[ohm]</th>\n",
       "      <th>...</th>\n",
       "      <th>T (stc)[degC]</th>\n",
       "      <th>Isc (stc)[A]</th>\n",
       "      <th>Voc (stc)[V]</th>\n",
       "      <th>Pm (stc)[W]</th>\n",
       "      <th>Ipm (stc)[A]</th>\n",
       "      <th>Vpm (stc)[V]</th>\n",
       "      <th>Eta (stc)[%]</th>\n",
       "      <th>FF(stc)</th>\n",
       "      <th>Unnamed: 33</th>\n",
       "      <th>Test-B result</th>\n",
       "    </tr>\n",
       "  </thead>\n",
       "  <tbody>\n",
       "    <tr>\n",
       "      <th>0</th>\n",
       "      <td>47.652863</td>\n",
       "      <td>1000</td>\n",
       "      <td>30</td>\n",
       "      <td>10</td>\n",
       "      <td>Pyranometer</td>\n",
       "      <td>52.49</td>\n",
       "      <td>1</td>\n",
       "      <td>0</td>\n",
       "      <td>0</td>\n",
       "      <td>0</td>\n",
       "      <td>...</td>\n",
       "      <td>25</td>\n",
       "      <td>8.194866</td>\n",
       "      <td>901.289707</td>\n",
       "      <td>5245.071996</td>\n",
       "      <td>7.371913</td>\n",
       "      <td>711.493992</td>\n",
       "      <td>11.583047</td>\n",
       "      <td>0.692700</td>\n",
       "      <td>NaN</td>\n",
       "      <td>defect_S_C</td>\n",
       "    </tr>\n",
       "    <tr>\n",
       "      <th>1</th>\n",
       "      <td>47.964508</td>\n",
       "      <td>100</td>\n",
       "      <td>10</td>\n",
       "      <td>10</td>\n",
       "      <td>Pyranometer</td>\n",
       "      <td>52.49</td>\n",
       "      <td>1</td>\n",
       "      <td>0</td>\n",
       "      <td>0</td>\n",
       "      <td>0</td>\n",
       "      <td>...</td>\n",
       "      <td>25</td>\n",
       "      <td>7.786469</td>\n",
       "      <td>36.603990</td>\n",
       "      <td>389.943103</td>\n",
       "      <td>10.372680</td>\n",
       "      <td>37.593285</td>\n",
       "      <td>17.987082</td>\n",
       "      <td>0.652611</td>\n",
       "      <td>NaN</td>\n",
       "      <td>defect_C</td>\n",
       "    </tr>\n",
       "  </tbody>\n",
       "</table>\n",
       "<p>2 rows × 33 columns</p>\n",
       "</div>"
      ],
      "text/plain": [
       "   Temperature[degC]  Voltge Range[V]  Current Range[A]  Sampling Pitch[uS]  \\\n",
       "0          47.652863             1000                30                  10   \n",
       "1          47.964508              100                10                  10   \n",
       "\n",
       "        Sensor  Caribration Constant (Er cal)[mV/kW/m^2]  PV Device Area[m^2]  \\\n",
       "0  Pyranometer                                     52.49                    1   \n",
       "1  Pyranometer                                     52.49                    1   \n",
       "\n",
       "   Current Temp. Coef.[A/degC]  Voltage Temp. Coef.[V/degC]  \\\n",
       "0                            0                            0   \n",
       "1                            0                            0   \n",
       "\n",
       "   Series Resistance(Rs)[ohm]      ...        T (stc)[degC]  Isc (stc)[A]  \\\n",
       "0                           0      ...                   25      8.194866   \n",
       "1                           0      ...                   25      7.786469   \n",
       "\n",
       "   Voc (stc)[V]  Pm (stc)[W]  Ipm (stc)[A]  Vpm (stc)[V]  Eta (stc)[%]  \\\n",
       "0    901.289707  5245.071996      7.371913    711.493992     11.583047   \n",
       "1     36.603990   389.943103     10.372680     37.593285     17.987082   \n",
       "\n",
       "    FF(stc)  Unnamed: 33  Test-B result  \n",
       "0  0.692700          NaN     defect_S_C  \n",
       "1  0.652611          NaN       defect_C  \n",
       "\n",
       "[2 rows x 33 columns]"
      ]
     },
     "execution_count": 6,
     "metadata": {},
     "output_type": "execute_result"
    }
   ],
   "source": [
    "#drop some columns\n",
    "dataWithClass.drop([\"Date\",\"Time\",\"Voltage[V]\",\"Module No.\"], axis=1, inplace=True)\n",
    "print(dataWithClass.shape)\n",
    "dataWithClass.head(2)"
   ]
  },
  {
   "cell_type": "code",
   "execution_count": 7,
   "metadata": {},
   "outputs": [
    {
     "name": "stdout",
     "output_type": "stream",
     "text": [
      "(196, 32)\n"
     ]
    },
    {
     "data": {
      "text/html": [
       "<div>\n",
       "<style>\n",
       "    .dataframe thead tr:only-child th {\n",
       "        text-align: right;\n",
       "    }\n",
       "\n",
       "    .dataframe thead th {\n",
       "        text-align: left;\n",
       "    }\n",
       "\n",
       "    .dataframe tbody tr th {\n",
       "        vertical-align: top;\n",
       "    }\n",
       "</style>\n",
       "<table border=\"1\" class=\"dataframe\">\n",
       "  <thead>\n",
       "    <tr style=\"text-align: right;\">\n",
       "      <th></th>\n",
       "      <th>Temperature[degC]</th>\n",
       "      <th>Voltge Range[V]</th>\n",
       "      <th>Current Range[A]</th>\n",
       "      <th>Sampling Pitch[uS]</th>\n",
       "      <th>Sensor</th>\n",
       "      <th>Caribration Constant (Er cal)[mV/kW/m^2]</th>\n",
       "      <th>PV Device Area[m^2]</th>\n",
       "      <th>Current Temp. Coef.[A/degC]</th>\n",
       "      <th>Voltage Temp. Coef.[V/degC]</th>\n",
       "      <th>Series Resistance(Rs)[ohm]</th>\n",
       "      <th>...</th>\n",
       "      <th>Er (stc)[W/m^2]</th>\n",
       "      <th>T (stc)[degC]</th>\n",
       "      <th>Isc (stc)[A]</th>\n",
       "      <th>Voc (stc)[V]</th>\n",
       "      <th>Pm (stc)[W]</th>\n",
       "      <th>Ipm (stc)[A]</th>\n",
       "      <th>Vpm (stc)[V]</th>\n",
       "      <th>Eta (stc)[%]</th>\n",
       "      <th>FF(stc)</th>\n",
       "      <th>Test-B result</th>\n",
       "    </tr>\n",
       "  </thead>\n",
       "  <tbody>\n",
       "    <tr>\n",
       "      <th>0</th>\n",
       "      <td>47.652863</td>\n",
       "      <td>1000</td>\n",
       "      <td>30</td>\n",
       "      <td>10</td>\n",
       "      <td>Pyranometer</td>\n",
       "      <td>52.49</td>\n",
       "      <td>1</td>\n",
       "      <td>0</td>\n",
       "      <td>0</td>\n",
       "      <td>0</td>\n",
       "      <td>...</td>\n",
       "      <td>1000</td>\n",
       "      <td>25</td>\n",
       "      <td>8.194866</td>\n",
       "      <td>901.289707</td>\n",
       "      <td>5245.071996</td>\n",
       "      <td>7.371913</td>\n",
       "      <td>711.493992</td>\n",
       "      <td>11.583047</td>\n",
       "      <td>0.692700</td>\n",
       "      <td>defect_S_C</td>\n",
       "    </tr>\n",
       "    <tr>\n",
       "      <th>1</th>\n",
       "      <td>47.964508</td>\n",
       "      <td>100</td>\n",
       "      <td>10</td>\n",
       "      <td>10</td>\n",
       "      <td>Pyranometer</td>\n",
       "      <td>52.49</td>\n",
       "      <td>1</td>\n",
       "      <td>0</td>\n",
       "      <td>0</td>\n",
       "      <td>0</td>\n",
       "      <td>...</td>\n",
       "      <td>1000</td>\n",
       "      <td>25</td>\n",
       "      <td>7.786469</td>\n",
       "      <td>36.603990</td>\n",
       "      <td>389.943103</td>\n",
       "      <td>10.372680</td>\n",
       "      <td>37.593285</td>\n",
       "      <td>17.987082</td>\n",
       "      <td>0.652611</td>\n",
       "      <td>defect_C</td>\n",
       "    </tr>\n",
       "  </tbody>\n",
       "</table>\n",
       "<p>2 rows × 32 columns</p>\n",
       "</div>"
      ],
      "text/plain": [
       "   Temperature[degC]  Voltge Range[V]  Current Range[A]  Sampling Pitch[uS]  \\\n",
       "0          47.652863             1000                30                  10   \n",
       "1          47.964508              100                10                  10   \n",
       "\n",
       "        Sensor  Caribration Constant (Er cal)[mV/kW/m^2]  PV Device Area[m^2]  \\\n",
       "0  Pyranometer                                     52.49                    1   \n",
       "1  Pyranometer                                     52.49                    1   \n",
       "\n",
       "   Current Temp. Coef.[A/degC]  Voltage Temp. Coef.[V/degC]  \\\n",
       "0                            0                            0   \n",
       "1                            0                            0   \n",
       "\n",
       "   Series Resistance(Rs)[ohm]      ...        Er (stc)[W/m^2]  T (stc)[degC]  \\\n",
       "0                           0      ...                   1000             25   \n",
       "1                           0      ...                   1000             25   \n",
       "\n",
       "   Isc (stc)[A]  Voc (stc)[V]  Pm (stc)[W]  Ipm (stc)[A]  Vpm (stc)[V]  \\\n",
       "0      8.194866    901.289707  5245.071996      7.371913    711.493992   \n",
       "1      7.786469     36.603990   389.943103     10.372680     37.593285   \n",
       "\n",
       "   Eta (stc)[%]   FF(stc)  Test-B result  \n",
       "0     11.583047  0.692700     defect_S_C  \n",
       "1     17.987082  0.652611       defect_C  \n",
       "\n",
       "[2 rows x 32 columns]"
      ]
     },
     "execution_count": 7,
     "metadata": {},
     "output_type": "execute_result"
    }
   ],
   "source": [
    "#drop na column\n",
    "dataWithClass.dropna(inplace=True, axis=1)\n",
    "print(dataWithClass.shape)\n",
    "dataWithClass.head(2)"
   ]
  },
  {
   "cell_type": "code",
   "execution_count": 8,
   "metadata": {},
   "outputs": [
    {
     "data": {
      "text/html": [
       "<div>\n",
       "<style>\n",
       "    .dataframe thead tr:only-child th {\n",
       "        text-align: right;\n",
       "    }\n",
       "\n",
       "    .dataframe thead th {\n",
       "        text-align: left;\n",
       "    }\n",
       "\n",
       "    .dataframe tbody tr th {\n",
       "        vertical-align: top;\n",
       "    }\n",
       "</style>\n",
       "<table border=\"1\" class=\"dataframe\">\n",
       "  <thead>\n",
       "    <tr style=\"text-align: right;\">\n",
       "      <th></th>\n",
       "      <th>Sensor</th>\n",
       "      <th>Test-B result</th>\n",
       "    </tr>\n",
       "  </thead>\n",
       "  <tbody>\n",
       "    <tr>\n",
       "      <th>0</th>\n",
       "      <td>Pyranometer</td>\n",
       "      <td>defect_S_C</td>\n",
       "    </tr>\n",
       "    <tr>\n",
       "      <th>1</th>\n",
       "      <td>Pyranometer</td>\n",
       "      <td>defect_C</td>\n",
       "    </tr>\n",
       "    <tr>\n",
       "      <th>2</th>\n",
       "      <td>Pyranometer</td>\n",
       "      <td>defect_C</td>\n",
       "    </tr>\n",
       "  </tbody>\n",
       "</table>\n",
       "</div>"
      ],
      "text/plain": [
       "        Sensor Test-B result\n",
       "0  Pyranometer    defect_S_C\n",
       "1  Pyranometer      defect_C\n",
       "2  Pyranometer      defect_C"
      ]
     },
     "execution_count": 8,
     "metadata": {},
     "output_type": "execute_result"
    }
   ],
   "source": [
    "#select object column\n",
    "dataWithClass.select_dtypes(include = ['object']).head(3)"
   ]
  },
  {
   "cell_type": "code",
   "execution_count": 9,
   "metadata": {},
   "outputs": [
    {
     "data": {
      "text/plain": [
       "normal        97\n",
       "defect_C      41\n",
       "defect_P      39\n",
       "defect_S_C    11\n",
       "defect_S       5\n",
       "defect_S_P     3\n",
       "Name: Test-B result, dtype: int64"
      ]
     },
     "execution_count": 9,
     "metadata": {},
     "output_type": "execute_result"
    }
   ],
   "source": [
    "#Count number of data point in class/target\n",
    "dataWithClass[\"Test-B result\"].value_counts()"
   ]
  },
  {
   "cell_type": "code",
   "execution_count": 10,
   "metadata": {
    "collapsed": true
   },
   "outputs": [],
   "source": [
    "#create X(features) and y(class/target) data\n",
    "X=dataWithClass.drop(['Sensor','Test-B result'],axis=1)\n",
    "y = dataWithClass[\"Test-B result\"]"
   ]
  },
  {
   "cell_type": "code",
   "execution_count": 11,
   "metadata": {},
   "outputs": [
    {
     "data": {
      "text/plain": [
       "((196, 30), (196,))"
      ]
     },
     "execution_count": 11,
     "metadata": {},
     "output_type": "execute_result"
    }
   ],
   "source": [
    "#Shape of X and y\n",
    "X.shape, y.shape"
   ]
  },
  {
   "cell_type": "code",
   "execution_count": 12,
   "metadata": {
    "collapsed": true
   },
   "outputs": [],
   "source": [
    "# splinting data into X_train, X_test, y_train, y_test\n",
    "from sklearn.model_selection import train_test_split\n",
    "X_train, X_test, y_train, y_test = train_test_split(X, y, test_size = 0.4,random_state=42, shuffle=False)"
   ]
  },
  {
   "cell_type": "code",
   "execution_count": 13,
   "metadata": {},
   "outputs": [
    {
     "name": "stdout",
     "output_type": "stream",
     "text": [
      "Train: normal        58\n",
      "defect_P      25\n",
      "defect_C      24\n",
      "defect_S_C     6\n",
      "defect_S_P     2\n",
      "defect_S       2\n",
      "Name: Test-B result, dtype: int64\n",
      "Test: normal        39\n",
      "defect_C      17\n",
      "defect_P      14\n",
      "defect_S_C     5\n",
      "defect_S       3\n",
      "defect_S_P     1\n",
      "Name: Test-B result, dtype: int64\n"
     ]
    }
   ],
   "source": [
    "#number of data class labels\n",
    "print(\"Train:\", y_train.value_counts())\n",
    "\n",
    "print(\"Test:\", y_test.value_counts())"
   ]
  },
  {
   "cell_type": "markdown",
   "metadata": {},
   "source": [
    "# ML Model\n",
    "\n",
    "**ML algorithm selection:** \n",
    "\n",
    "1. A first approach to deal with imbalanced data is to balance it by discarding the majority class before applying an ML algorithm. The disadvantage of undersampling is that a model trained in this way will not perform well on real-world skewed test data since almost all the information was discarded. \n",
    "\n",
    "2. A second approach might be to oversample the minority class, say by the synthetic minority oversampling technique (SMOTE) contained in the 'imblearn' library.\n",
    "\n",
    "3. I find, however, that the best result is obtained on the original dataset by using a ML algorithm based on ensembles of decision trees that intrinsically performs well on imbalanced data. Such algorithms not only allow for constructing a model that can cope with the missing values in our data, but they naturally allow for speedup via parallel-processing. Among these algorithms, XGBoost and random-forest algorithm used below slightly outperforms. Finally, XGBoost, RF, like several other ML algorithms, allows for weighting the positive class more compared to the negative class.\n",
    "\n",
    "## With Original Data\n",
    "\n",
    "### Random Forest"
   ]
  },
  {
   "cell_type": "code",
   "execution_count": 307,
   "metadata": {},
   "outputs": [
    {
     "data": {
      "text/plain": [
       "GridSearchCV(cv=2, estimator=RandomForestClassifier(random_state=42),\n",
       "             param_grid={'criterion': ['gini', 'entropy'],\n",
       "                         'max_depth': [4, 5, 6, 7, 8],\n",
       "                         'max_features': ['auto', 'sqrt', 'log2'],\n",
       "                         'n_estimators': [100, 200, 500]})"
      ]
     },
     "execution_count": 307,
     "metadata": {},
     "output_type": "execute_result"
    }
   ],
   "source": [
    "#Hyperparameter tuning\n",
    "from sklearn.model_selection import RandomizedSearchCV, GridSearchCV\n",
    "rfc=RandomForestClassifier(random_state=42)\n",
    "param_grid = { \n",
    "    'n_estimators': [100, 200, 500],\n",
    "    'max_features': ['auto', 'sqrt', 'log2'],\n",
    "    'max_depth' : [4,5,6,7,8],\n",
    "    'criterion' :['gini', 'entropy']\n",
    "}\n",
    "CV_rfc = GridSearchCV(estimator=rfc, param_grid=param_grid, cv= 2)\n",
    "CV_rfc.fit(X_train, y_train)"
   ]
  },
  {
   "cell_type": "code",
   "execution_count": 308,
   "metadata": {},
   "outputs": [
    {
     "data": {
      "text/plain": [
       "{'criterion': 'entropy',\n",
       " 'max_depth': 5,\n",
       " 'max_features': 'auto',\n",
       " 'n_estimators': 500}"
      ]
     },
     "execution_count": 308,
     "metadata": {},
     "output_type": "execute_result"
    }
   ],
   "source": [
    "#Best param\n",
    "CV_rfc.best_params_"
   ]
  },
  {
   "cell_type": "code",
   "execution_count": 309,
   "metadata": {},
   "outputs": [
    {
     "name": "stdout",
     "output_type": "stream",
     "text": [
      "accuracy_score\n",
      "0.8227848101265823\n",
      "classification_report\n",
      "              precision    recall  f1-score   support\n",
      "\n",
      "    defect_C       0.94      0.94      0.94        17\n",
      "    defect_P       0.73      0.79      0.76        14\n",
      "    defect_S       0.00      0.00      0.00         3\n",
      "  defect_S_C       0.00      0.00      0.00         5\n",
      "  defect_S_P       0.00      0.00      0.00         1\n",
      "      normal       0.81      0.97      0.88        39\n",
      "\n",
      "    accuracy                           0.82        79\n",
      "   macro avg       0.41      0.45      0.43        79\n",
      "weighted avg       0.73      0.82      0.77        79\n",
      "\n",
      "Wall time: 778 ms\n"
     ]
    },
    {
     "name": "stderr",
     "output_type": "stream",
     "text": [
      "C:\\Users\\Triloki-Gupta\\Anaconda3\\envs\\envpytorch\\lib\\site-packages\\sklearn\\metrics\\_classification.py:1221: UndefinedMetricWarning: Precision and F-score are ill-defined and being set to 0.0 in labels with no predicted samples. Use `zero_division` parameter to control this behavior.\n",
      "  _warn_prf(average, modifier, msg_start, len(result))\n"
     ]
    }
   ],
   "source": [
    "%%time\n",
    "from sklearn.ensemble import RandomForestClassifier\n",
    "from sklearn.metrics import accuracy_score,confusion_matrix,classification_report\n",
    "r_clf=RandomForestClassifier(criterion='entropy',\n",
    " max_depth=5,\n",
    " max_features='auto',\n",
    " n_estimators=500)\n",
    "r_clf.fit(X_train,y_train)\n",
    "y_pred=r_clf.predict(X_test)\n",
    "print(\"accuracy_score\")\n",
    "print(accuracy_score(y_test,y_pred))\n",
    "\n",
    "print(\"classification_report\")\n",
    "print(classification_report(y_test,y_pred))"
   ]
  },
  {
   "cell_type": "markdown",
   "metadata": {},
   "source": [
    "### XGBoost"
   ]
  },
  {
   "cell_type": "code",
   "execution_count": 353,
   "metadata": {
    "collapsed": true
   },
   "outputs": [],
   "source": [
    "col = [str(i) for i in range(30)]\n",
    "X=dataWithClass.drop(['Sensor','Test-B result'],axis=1)\n",
    "y = dataWithClass[\"Test-B result\"]\n",
    "X.columns = col"
   ]
  },
  {
   "cell_type": "code",
   "execution_count": 355,
   "metadata": {
    "collapsed": true
   },
   "outputs": [],
   "source": [
    "# X.rename(columns=lambda x: x[0:5], inplace=True)\n",
    "# splinting data into X_train, X_test, y_train, y_test\n",
    "X_train, X_test, y_train, y_test = train_test_split(X, y, test_size = 0.4,random_state=42, shuffle=False)"
   ]
  },
  {
   "cell_type": "code",
   "execution_count": 357,
   "metadata": {},
   "outputs": [
    {
     "data": {
      "text/plain": [
       "GridSearchCV(cv=3,\n",
       "             estimator=XGBClassifier(base_score=None, booster=None,\n",
       "                                     colsample_bylevel=None,\n",
       "                                     colsample_bynode=None,\n",
       "                                     colsample_bytree=None, gamma=None,\n",
       "                                     gpu_id=None, importance_type='gain',\n",
       "                                     interaction_constraints=None,\n",
       "                                     learning_rate=None, max_delta_step=None,\n",
       "                                     max_depth=None, min_child_weight=None,\n",
       "                                     missing=nan, monotone_constraints=None,\n",
       "                                     n_estimators=100, n_jobs=None,\n",
       "                                     num_parallel_tree=None, random_state=None,\n",
       "                                     reg_alpha=None, reg_lambda=None,\n",
       "                                     scale_pos_weight=None, subsample=None,\n",
       "                                     tree_method=None, validate_parameters=None,\n",
       "                                     verbosity=None),\n",
       "             param_grid={'colsample_bytree': [0.6, 0.8, 1.0],\n",
       "                         'gamma': [0.5, 1, 1.5, 2, 5],\n",
       "                         'learning_rate': [0.01, 0.1, 1, 10],\n",
       "                         'max_depth': [3, 4, 5], 'min_child_weight': [1, 5, 10],\n",
       "                         'subsample': [0.6, 0.8, 1.0]})"
      ]
     },
     "execution_count": 357,
     "metadata": {},
     "output_type": "execute_result"
    }
   ],
   "source": [
    "from sklearn.model_selection import RandomizedSearchCV, GridSearchCV\n",
    "xgb=XGBClassifier()\n",
    "params = {\n",
    "        'min_child_weight': [1, 5, 10],\n",
    "        'gamma': [0.5, 1, 1.5, 2, 5],\n",
    "        'subsample': [0.6, 0.8, 1.0],\n",
    "        'colsample_bytree': [0.6, 0.8, 1.0],\n",
    "        'max_depth': [3, 4, 5],\n",
    "        'learning_rate':[0.01,0.1,1,10]\n",
    "        }\n",
    "CV_xgb = GridSearchCV(estimator=xgb, param_grid=params, cv= 3)\n",
    "CV_xgb.fit(X, y)"
   ]
  },
  {
   "cell_type": "code",
   "execution_count": 358,
   "metadata": {},
   "outputs": [
    {
     "data": {
      "text/plain": [
       "{'colsample_bytree': 0.8,\n",
       " 'gamma': 2,\n",
       " 'learning_rate': 0.01,\n",
       " 'max_depth': 3,\n",
       " 'min_child_weight': 1,\n",
       " 'subsample': 0.8}"
      ]
     },
     "execution_count": 358,
     "metadata": {},
     "output_type": "execute_result"
    }
   ],
   "source": [
    "CV_xgb.best_params_"
   ]
  },
  {
   "cell_type": "code",
   "execution_count": 367,
   "metadata": {},
   "outputs": [
    {
     "name": "stdout",
     "output_type": "stream",
     "text": [
      "accuracy_score\n",
      "0.810126582278481\n",
      "classification_report\n",
      "              precision    recall  f1-score   support\n",
      "\n",
      "    defect_C       0.94      0.94      0.94        17\n",
      "    defect_P       0.71      0.71      0.71        14\n",
      "    defect_S       0.00      0.00      0.00         3\n",
      "  defect_S_C       0.00      0.00      0.00         5\n",
      "  defect_S_P       0.00      0.00      0.00         1\n",
      "      normal       0.81      0.97      0.88        39\n",
      "\n",
      "    accuracy                           0.81        79\n",
      "   macro avg       0.41      0.44      0.42        79\n",
      "weighted avg       0.73      0.81      0.77        79\n",
      "\n",
      "Wall time: 228 ms\n"
     ]
    }
   ],
   "source": [
    "%%time\n",
    "from xgboost.sklearn import XGBClassifier\n",
    "xgbc = XGBClassifier(colsample_bytree=0.8,gamma=2,learning_rate=0.01,max_depth=3,min_child_weight=1,subsample=0.8)\n",
    "xgbc.fit(X_train, y_train)\n",
    "y_pred=xgbc.predict(X_test)\n",
    "print(\"accuracy_score\")\n",
    "print(accuracy_score(y_test,y_pred))\n",
    "\n",
    "print(\"classification_report\")\n",
    "print(classification_report(y_test,y_pred))"
   ]
  },
  {
   "cell_type": "markdown",
   "metadata": {},
   "source": [
    "## Up-sampling"
   ]
  },
  {
   "cell_type": "markdown",
   "metadata": {},
   "source": [
    "### With all dataset"
   ]
  },
  {
   "cell_type": "code",
   "execution_count": 57,
   "metadata": {},
   "outputs": [
    {
     "name": "stdout",
     "output_type": "stream",
     "text": [
      "(582, 30) (582,)\n"
     ]
    },
    {
     "name": "stderr",
     "output_type": "stream",
     "text": [
      "C:\\Users\\Triloki-Gupta\\Anaconda3\\lib\\site-packages\\imblearn\\utils\\deprecation.py:50: DeprecationWarning: 'k' is deprecated from 0.2 and will be removed in 0.4. Use 'k_neighbors' instead.\n",
      "  category=DeprecationWarning)\n"
     ]
    }
   ],
   "source": [
    "from imblearn.over_sampling import SMOTE\n",
    "X=dataWithClass.drop(['Sensor','Test-B result'],axis=1)\n",
    "y = dataWithClass[\"Test-B result\"]\n",
    "\n",
    "smote = SMOTE(k=2)\n",
    "X_sm, y_sm = smote.fit_sample(X, y)\n",
    "print(X_sm.shape, y_sm.shape)\n",
    "X_train, X_test, y_train, y_test = train_test_split(X_sm, y_sm, test_size = 0.4,random_state=42)\n"
   ]
  },
  {
   "cell_type": "code",
   "execution_count": 58,
   "metadata": {},
   "outputs": [
    {
     "name": "stdout",
     "output_type": "stream",
     "text": [
      "accuracy_score\n",
      "0.9570815450643777\n",
      "classification_report\n",
      "              precision    recall  f1-score   support\n",
      "\n",
      "    defect_C       0.92      0.97      0.95        36\n",
      "    defect_P       1.00      0.91      0.95        43\n",
      "    defect_S       0.90      0.95      0.92        37\n",
      "  defect_S_C       0.95      0.95      0.95        38\n",
      "  defect_S_P       1.00      1.00      1.00        39\n",
      "      normal       0.97      0.97      0.97        40\n",
      "\n",
      "   micro avg       0.96      0.96      0.96       233\n",
      "   macro avg       0.96      0.96      0.96       233\n",
      "weighted avg       0.96      0.96      0.96       233\n",
      "\n",
      "Wall time: 1.51 s\n"
     ]
    }
   ],
   "source": [
    "%%time\n",
    "from sklearn.ensemble import RandomForestClassifier\n",
    "from sklearn.metrics import accuracy_score,confusion_matrix,classification_report\n",
    "r_clf=RandomForestClassifier(criterion='entropy',\n",
    " max_depth=5,\n",
    " max_features='auto',\n",
    " n_estimators=500)\n",
    "r_clf.fit(X_train,y_train)\n",
    "y_pred=r_clf.predict(X_test)\n",
    "print(\"accuracy_score\")\n",
    "print(accuracy_score(y_test,y_pred))\n",
    "\n",
    "print(\"classification_report\")\n",
    "print(classification_report(y_test,y_pred))"
   ]
  },
  {
   "cell_type": "code",
   "execution_count": 59,
   "metadata": {},
   "outputs": [
    {
     "name": "stdout",
     "output_type": "stream",
     "text": [
      "accuracy_score\n",
      "0.927038626609442\n",
      "classification_report\n",
      "              precision    recall  f1-score   support\n",
      "\n",
      "    defect_C       0.92      0.97      0.95        36\n",
      "    defect_P       1.00      0.77      0.87        43\n",
      "    defect_S       0.88      0.95      0.91        37\n",
      "  defect_S_C       0.88      0.95      0.91        38\n",
      "  defect_S_P       0.95      1.00      0.97        39\n",
      "      normal       0.95      0.95      0.95        40\n",
      "\n",
      "   micro avg       0.93      0.93      0.93       233\n",
      "   macro avg       0.93      0.93      0.93       233\n",
      "weighted avg       0.93      0.93      0.93       233\n",
      "\n",
      "Wall time: 825 ms\n"
     ]
    }
   ],
   "source": [
    "%%time\n",
    "from xgboost.sklearn import XGBClassifier\n",
    "xgbc = XGBClassifier(colsample_bytree=0.8,gamma=2,learning_rate=0.01,max_depth=3,min_child_weight=1,subsample=0.8)\n",
    "xgbc.fit(X_train, y_train)\n",
    "y_pred=xgbc.predict(X_test)\n",
    "print(\"accuracy_score\")\n",
    "print(accuracy_score(y_test,y_pred))\n",
    "\n",
    "print(\"classification_report\")\n",
    "print(classification_report(y_test,y_pred))"
   ]
  },
  {
   "cell_type": "markdown",
   "metadata": {},
   "source": [
    "### Within train data only"
   ]
  },
  {
   "cell_type": "code",
   "execution_count": 96,
   "metadata": {},
   "outputs": [
    {
     "name": "stdout",
     "output_type": "stream",
     "text": [
      "(348, 30) (348,)\n"
     ]
    },
    {
     "name": "stderr",
     "output_type": "stream",
     "text": [
      "C:\\Users\\Triloki-Gupta\\Anaconda3\\lib\\site-packages\\imblearn\\utils\\deprecation.py:50: DeprecationWarning: 'k' is deprecated from 0.2 and will be removed in 0.4. Use 'k_neighbors' instead.\n",
      "  category=DeprecationWarning)\n"
     ]
    }
   ],
   "source": [
    "# col = [str(i) for i in range(30)]\n",
    "X=dataWithClass.drop(['Sensor','Test-B result'],axis=1)\n",
    "y = dataWithClass[\"Test-B result\"]\n",
    "# X.columns = col\n",
    "\n",
    "X_train, X_test, y_train, y_test = train_test_split(X, y, test_size = 0.4,random_state=42,shuffle= False)\n",
    "\n",
    "smote = SMOTE(k=1)\n",
    "X_sm, y_sm = smote.fit_sample(X_train, y_train)\n",
    "print(X_sm.shape, y_sm.shape)\n",
    "# X_test.columns = X_sm.columns()"
   ]
  },
  {
   "cell_type": "code",
   "execution_count": 97,
   "metadata": {},
   "outputs": [
    {
     "data": {
      "text/plain": [
       "GridSearchCV(cv=2, error_score='raise-deprecating',\n",
       "       estimator=RandomForestClassifier(bootstrap=True, class_weight=None, criterion='gini',\n",
       "            max_depth=None, max_features='auto', max_leaf_nodes=None,\n",
       "            min_impurity_decrease=0.0, min_impurity_split=None,\n",
       "            min_samples_leaf=1, min_samples_split=2,\n",
       "            min_weight_fraction_leaf=0.0, n_estimators='warn', n_jobs=None,\n",
       "            oob_score=False, random_state=42, verbose=0, warm_start=False),\n",
       "       fit_params=None, iid='warn', n_jobs=None,\n",
       "       param_grid={'n_estimators': [100, 200, 500], 'max_features': ['auto', 'sqrt', 'log2'], 'max_depth': [4, 5, 6, 7, 8], 'criterion': ['gini', 'entropy']},\n",
       "       pre_dispatch='2*n_jobs', refit=True, return_train_score='warn',\n",
       "       scoring=None, verbose=0)"
      ]
     },
     "execution_count": 97,
     "metadata": {},
     "output_type": "execute_result"
    }
   ],
   "source": [
    "from sklearn.model_selection import RandomizedSearchCV, GridSearchCV\n",
    "rfc=RandomForestClassifier(random_state=42)\n",
    "param_grid = { \n",
    "    'n_estimators': [100, 200, 500],\n",
    "    'max_features': ['auto', 'sqrt', 'log2'],\n",
    "    'max_depth' : [4,5,6,7,8],\n",
    "    'criterion' :['gini', 'entropy']\n",
    "}\n",
    "CV_rfc = GridSearchCV(estimator=rfc, param_grid=param_grid, cv= 2)\n",
    "CV_rfc.fit(X_sm, y_sm)"
   ]
  },
  {
   "cell_type": "code",
   "execution_count": 98,
   "metadata": {},
   "outputs": [
    {
     "data": {
      "text/plain": [
       "{'criterion': 'gini',\n",
       " 'max_depth': 6,\n",
       " 'max_features': 'log2',\n",
       " 'n_estimators': 100}"
      ]
     },
     "execution_count": 98,
     "metadata": {},
     "output_type": "execute_result"
    }
   ],
   "source": [
    "CV_rfc.best_params_"
   ]
  },
  {
   "cell_type": "code",
   "execution_count": 114,
   "metadata": {},
   "outputs": [
    {
     "name": "stdout",
     "output_type": "stream",
     "text": [
      "accuracy_score\n",
      "0.810126582278481\n",
      "classification_report\n",
      "              precision    recall  f1-score   support\n",
      "\n",
      "    defect_C       0.94      0.94      0.94        17\n",
      "    defect_P       1.00      0.36      0.53        14\n",
      "    defect_S       0.00      0.00      0.00         3\n",
      "  defect_S_C       0.31      0.80      0.44         5\n",
      "  defect_S_P       0.33      1.00      0.50         1\n",
      "      normal       0.93      0.97      0.95        39\n",
      "\n",
      "   micro avg       0.81      0.81      0.81        79\n",
      "   macro avg       0.58      0.68      0.56        79\n",
      "weighted avg       0.86      0.81      0.80        79\n",
      "\n",
      "Wall time: 175 ms\n"
     ]
    },
    {
     "name": "stderr",
     "output_type": "stream",
     "text": [
      "C:\\Users\\Triloki-Gupta\\Anaconda3\\lib\\site-packages\\sklearn\\metrics\\classification.py:1143: UndefinedMetricWarning: Precision and F-score are ill-defined and being set to 0.0 in labels with no predicted samples.\n",
      "  'precision', 'predicted', average, warn_for)\n"
     ]
    }
   ],
   "source": [
    "%%time\n",
    "from sklearn.ensemble import RandomForestClassifier\n",
    "from sklearn.metrics import accuracy_score,confusion_matrix,classification_report\n",
    "r_clf=RandomForestClassifier(criterion='gini',\n",
    " max_depth=6,\n",
    " max_features='log2',\n",
    " n_estimators=100,random_state=42)\n",
    "r_clf.fit(X_sm,y_sm)\n",
    "y_pred=r_clf.predict(X_test)\n",
    "print(\"accuracy_score\")\n",
    "print(accuracy_score(y_test,y_pred))\n",
    "\n",
    "print(\"classification_report\")\n",
    "print(classification_report(y_test,y_pred))"
   ]
  },
  {
   "cell_type": "code",
   "execution_count": 93,
   "metadata": {},
   "outputs": [
    {
     "name": "stderr",
     "output_type": "stream",
     "text": [
      "C:\\Users\\Triloki-Gupta\\Anaconda3\\lib\\site-packages\\sklearn\\model_selection\\_search.py:841: DeprecationWarning: The default of the `iid` parameter will change from True to False in version 0.22 and will be removed in 0.24. This will change numeric results when test-set sizes are unequal.\n",
      "  DeprecationWarning)\n"
     ]
    },
    {
     "data": {
      "text/plain": [
       "{'colsample_bytree': 0.6,\n",
       " 'gamma': 0.5,\n",
       " 'learning_rate': 0.01,\n",
       " 'max_depth': 4,\n",
       " 'min_child_weight': 1,\n",
       " 'subsample': 1.0}"
      ]
     },
     "execution_count": 93,
     "metadata": {},
     "output_type": "execute_result"
    }
   ],
   "source": [
    "from sklearn.model_selection import RandomizedSearchCV, GridSearchCV\n",
    "xgb=XGBClassifier()\n",
    "params = {\n",
    "        'min_child_weight': [1, 5, 10],\n",
    "        'gamma': [0.5, 1, 1.5, 2, 5],\n",
    "        'subsample': [0.6, 0.8, 1.0],\n",
    "        'colsample_bytree': [0.6, 0.8, 1.0],\n",
    "        'max_depth': [3, 4, 5],\n",
    "        'learning_rate':[0.01,0.1,1,10]\n",
    "        }\n",
    "CV_xgb = GridSearchCV(estimator=xgb, param_grid=params, cv= 3)\n",
    "CV_xgb.fit(X_sm, y_sm)\n",
    "CV_xgb.best_params_"
   ]
  },
  {
   "cell_type": "code",
   "execution_count": 95,
   "metadata": {},
   "outputs": [
    {
     "name": "stdout",
     "output_type": "stream",
     "text": [
      "accuracy_score\n",
      "0.8354430379746836\n",
      "classification_report\n",
      "              precision    recall  f1-score   support\n",
      "\n",
      "    defect_C       0.94      0.94      0.94        17\n",
      "    defect_P       0.90      0.64      0.75        14\n",
      "    defect_S       0.00      0.00      0.00         3\n",
      "  defect_S_C       0.67      0.40      0.50         5\n",
      "  defect_S_P       0.50      1.00      0.67         1\n",
      "      normal       0.81      0.97      0.88        39\n",
      "\n",
      "   micro avg       0.84      0.84      0.84        79\n",
      "   macro avg       0.64      0.66      0.62        79\n",
      "weighted avg       0.81      0.84      0.81        79\n",
      "\n",
      "Wall time: 1.12 s\n"
     ]
    },
    {
     "name": "stderr",
     "output_type": "stream",
     "text": [
      "C:\\Users\\Triloki-Gupta\\Anaconda3\\lib\\site-packages\\sklearn\\metrics\\classification.py:1143: UndefinedMetricWarning: Precision and F-score are ill-defined and being set to 0.0 in labels with no predicted samples.\n",
      "  'precision', 'predicted', average, warn_for)\n"
     ]
    }
   ],
   "source": [
    "%%time\n",
    "pd.DataFrame(X_test).columns = ['f0', 'f1', 'f2', 'f3', 'f4', 'f5', 'f6', 'f7', 'f8', 'f9', 'f10', 'f11', 'f12', 'f13', 'f14', 'f15', 'f16', 'f17', 'f18', 'f19', 'f20', 'f21', 'f22', 'f23', 'f24', 'f25', 'f26', 'f27', 'f28', 'f29']\n",
    "from xgboost.sklearn import XGBClassifier\n",
    "xgbc = XGBClassifier(n_estimators=200,colsample_bytree=0.6,gamma=0.5,learning_rate=0.01,max_depth=4,min_child_weight=1,subsample=1.0)\n",
    "xgbc.fit(X_sm, y_sm)\n",
    "y_pred=xgbc.predict(X_test)\n",
    "print(\"accuracy_score\")\n",
    "print(accuracy_score(y_test,y_pred))\n",
    "\n",
    "print(\"classification_report\")\n",
    "print(classification_report(y_test,y_pred))"
   ]
  },
  {
   "cell_type": "code",
   "execution_count": 86,
   "metadata": {
    "collapsed": true
   },
   "outputs": [],
   "source": []
  },
  {
   "cell_type": "markdown",
   "metadata": {},
   "source": [
    "## Conclusion\n",
    "\n",
    "Thoroughly interrogated the data with the help of EDA.\n",
    "\n",
    "To deal with the large skew in the data, we chose an appropriate metric and used an ML algorithm based on an ensemble of decision trees which works best with strongly imbalanced classes.\n",
    "\n",
    "**1. With original data**\n",
    "\n",
    "- Random Forest: 82.27%\n",
    "- XGBoost: 81.01%\n",
    "\n",
    "**2. Upsampling(SMOTE)**\n",
    "\n",
    "**- Within all data**\n",
    "\n",
    "- Random Forest: 95.70%\n",
    "- XGBoost: 92.7%\n",
    "\n",
    "**- Within train data only**\n",
    "\n",
    "- Random Forest: 81.01%\n",
    "- XGBoost: 83.54%\n",
    "\n",
    "Less number of data point for defect defect_S_C, defect_S & defect_S_P which is impacting accuracy.\n",
    "\n",
    "- defect_S_C:    11\n",
    "- defect_S:       5\n",
    "- defect_S_P:     3"
   ]
  },
  {
   "cell_type": "code",
   "execution_count": null,
   "metadata": {
    "collapsed": true
   },
   "outputs": [],
   "source": []
  }
 ],
 "metadata": {
  "kernelspec": {
   "display_name": "Python 3",
   "language": "python",
   "name": "python3"
  },
  "language_info": {
   "codemirror_mode": {
    "name": "ipython",
    "version": 3
   },
   "file_extension": ".py",
   "mimetype": "text/x-python",
   "name": "python",
   "nbconvert_exporter": "python",
   "pygments_lexer": "ipython3",
   "version": "3.7.4"
  }
 },
 "nbformat": 4,
 "nbformat_minor": 4
}
